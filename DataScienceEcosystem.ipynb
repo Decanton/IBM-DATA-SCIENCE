{
 "cells": [
  {
   "cell_type": "markdown",
   "id": "78ecb7ac-3d18-4b74-8a4c-f622015aecb7",
   "metadata": {},
   "source": [
    "# Data Science Tools and Ecosystem"
   ]
  },
  {
   "cell_type": "markdown",
   "id": "19b0d910-07ff-4888-a109-00f6dfc4c6a5",
   "metadata": {
    "tags": []
   },
   "source": [
    "In this notebook, Data Science Tools and Ecosystem are summarized"
   ]
  },
  {
   "cell_type": "markdown",
   "id": "24e1a86b-945b-4a0b-a3a4-87d7be2734fb",
   "metadata": {},
   "source": [
    "Some of the popular languages that Data Scientists use are:\n",
    "1. Python.\n",
    "2. R.\n",
    "3. SQL.\n",
    "4. Java.\n",
    "5. Julia.\n",
    "6. Scala.\n",
    "7. JavaScript.\n"
   ]
  },
  {
   "cell_type": "markdown",
   "id": "c946e411-ed02-452e-b181-d7411eda8e0d",
   "metadata": {},
   "source": [
    "Some commonly used libraries by data scientists include:\n",
    "\n",
    "1. Pandas: For data manipulation and analysis, especially with structured data like CSVs and Excel files.\n",
    "2. NumPy: Provides support for large, multi-dimensional arrays and matrices, along with a collection of mathematical functions.\n",
    "3. Matplotlib: A plotting library for creating static, animated, and interactive visualizations in Python.\n",
    "4. Seaborn: Built on top of Matplotlib, it provides a high-level interface for drawing attractive and informative statistical graphics.\n",
    "5. Scikit-learn: A library for machine learning, offering tools for data mining and data analysis.\n",
    "6. TensorFlow: An open-source platform for machine learning and artificial intelligence, especially for deep learning models.\n",
    "6. Keras: An open-source software library that provides a Python interface for artificial neural networks and runs on top of TensorFlow."
   ]
  },
  {
   "cell_type": "markdown",
   "id": "8e17144a-0e18-4927-b90d-8cf6fdf97a5f",
   "metadata": {},
   "source": [
    "| **Data Science Tools**         |\n",
    "|--------------------------------|\n",
    "| Jupyter Notebook               |\n",
    "| RStudio                        |\n",
    "| Apache Zeppelin                |"
   ]
  },
  {
   "cell_type": "markdown",
   "id": "dca8a041-45ab-400f-a5c0-21c3775d46cf",
   "metadata": {},
   "source": [
    "### Below are a few examples of evaluating arithmetic expressions in Python\n"
   ]
  },
  {
   "cell_type": "code",
   "execution_count": 2,
   "id": "9c587120-b866-4663-a2f1-544f4506c8ad",
   "metadata": {
    "tags": []
   },
   "outputs": [
    {
     "data": {
      "text/plain": [
       "17"
      ]
     },
     "execution_count": 2,
     "metadata": {},
     "output_type": "execute_result"
    }
   ],
   "source": [
    "# This is a simple arithmetic expression to multiply then add integers\n",
    "(3 * 4) + 5\n"
   ]
  },
  {
   "cell_type": "code",
   "execution_count": 3,
   "id": "5fcf230b-025f-4ef1-b4b2-4151269b0c4e",
   "metadata": {
    "tags": []
   },
   "outputs": [
    {
     "data": {
      "text/plain": [
       "3.3333333333333335"
      ]
     },
     "execution_count": 3,
     "metadata": {},
     "output_type": "execute_result"
    }
   ],
   "source": [
    "# This will convert 200 minutes to hours by dividing by 60\n",
    "200 / 60\n"
   ]
  },
  {
   "cell_type": "markdown",
   "id": "40066201-d4da-4cf4-a2cc-f949fd0cb78f",
   "metadata": {},
   "source": [
    "**Objectives:**\n",
    "\n",
    "- List popular languages for Data Science\n",
    "- Introduce common libraries used in Data Science\n",
    "- Provide examples of arithmetic expressions in Python\n",
    "- Demonstrate how to convert minutes to hours using Python\n",
    "- Highlight development environment open-source tools used in Data Science\n"
   ]
  },
  {
   "cell_type": "markdown",
   "id": "21bba85f-2ca7-4bf7-b959-9f1e327d581c",
   "metadata": {},
   "source": [
    "## Author\n",
    "Dickens Owino\n"
   ]
  },
  {
   "cell_type": "code",
   "execution_count": null,
   "id": "49d04c7d-ce50-4373-a378-9a69d0765e74",
   "metadata": {},
   "outputs": [],
   "source": []
  }
 ],
 "metadata": {
  "kernelspec": {
   "display_name": "Python",
   "language": "python",
   "name": "conda-env-python-py"
  },
  "language_info": {
   "codemirror_mode": {
    "name": "ipython",
    "version": 3
   },
   "file_extension": ".py",
   "mimetype": "text/x-python",
   "name": "python",
   "nbconvert_exporter": "python",
   "pygments_lexer": "ipython3",
   "version": "3.7.12"
  }
 },
 "nbformat": 4,
 "nbformat_minor": 5
}
